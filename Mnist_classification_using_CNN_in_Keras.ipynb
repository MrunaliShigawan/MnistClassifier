{
  "nbformat": 4,
  "nbformat_minor": 0,
  "metadata": {
    "colab": {
      "name": "Mnist_classification_using_CNN_in Keras.ipynb",
      "provenance": [],
      "collapsed_sections": [],
      "authorship_tag": "ABX9TyNObf2Xw4l4hopdKvdAVDX2",
      "include_colab_link": true
    },
    "kernelspec": {
      "name": "python3",
      "display_name": "Python 3"
    },
    "accelerator": "TPU"
  },
  "cells": [
    {
      "cell_type": "markdown",
      "metadata": {
        "id": "view-in-github",
        "colab_type": "text"
      },
      "source": [
        "<a href=\"https://colab.research.google.com/github/MrunaliShigawan/MnistClassifier/blob/master/Mnist_classification_using_CNN_in_Keras.ipynb\" target=\"_parent\"><img src=\"https://colab.research.google.com/assets/colab-badge.svg\" alt=\"Open In Colab\"/></a>"
      ]
    },
    {
      "cell_type": "code",
      "metadata": {
        "id": "aWnn5oqLzxVd",
        "colab_type": "code",
        "colab": {
          "base_uri": "https://localhost:8080/",
          "height": 394
        },
        "outputId": "d1e6f868-683d-4c9a-a1b5-646051aefa0f"
      },
      "source": [
        "# loading the MNIST dataset\n",
        "from keras.datasets import mnist\n",
        "(x_train,y_train),(x_test,y_test)=mnist.load_data()\n",
        "\n",
        "# ploting the first image in train dataset\n",
        "import matplotlib.pyplot as plt\n",
        "print(y_train[0]) \n",
        "plt.imshow(x_train[0], cmap='Greys')\n",
        "\n",
        "# print shape of each variable\n",
        "print(\"train image shape:\",x_train.shape)  # output (60000, 28, 28)\n",
        "print(\"train label shape:\",y_train.shape)  # output (60000,)\n",
        "print(\"test image shape:\",x_test.shape)  # output (10000, 28, 28)\n",
        "print(\"test label shape:\",y_test.shape)  # output (10000,)\n"
      ],
      "execution_count": 1,
      "outputs": [
        {
          "output_type": "stream",
          "text": [
            "Downloading data from https://storage.googleapis.com/tensorflow/tf-keras-datasets/mnist.npz\n",
            "11493376/11490434 [==============================] - 0s 0us/step\n",
            "5\n",
            "train image shape: (60000, 28, 28)\n",
            "train label shape: (60000,)\n",
            "test image shape: (10000, 28, 28)\n",
            "test label shape: (10000,)\n"
          ],
          "name": "stdout"
        },
        {
          "output_type": "display_data",
          "data": {
            "image/png": "[encoded data removed]",
            "text/plain": [
              "<Figure size 432x288 with 1 Axes>"
            ]
          },
          "metadata": {
            "tags": [],
            "needs_background": "light"
          }
        }
      ]
    },
    {
      "cell_type": "code",
      "metadata": {
        "id": "pXRyxjl90GKG",
        "colab_type": "code",
        "colab": {
          "base_uri": "https://localhost:8080/",
          "height": 35
        },
        "outputId": "8b7a3ee2-9b0e-49af-f61d-cfae10e6376d"
      },
      "source": [
        "# convert to 4 dimension\n",
        "x_train=x_train.reshape([-1,28,28,1])\n",
        "x_test=x_test.reshape([-1,28,28,1])\n",
        "\n",
        "# convert to float\n",
        "x_train=x_train.astype('float32')\n",
        "x_test=x_test.astype('float32')\n",
        "\n",
        "# divide by max value 255\n",
        "x_train=x_train/225.0\n",
        "x_test=x_test/255.0\n",
        "\n",
        "print(\"train image shape after converting to 4 dimensional:\",x_train.shape) # output (60000, 28, 28, 1)"
      ],
      "execution_count": 3,
      "outputs": [
        {
          "output_type": "stream",
          "text": [
            "train image shape after converting to 4 dimensional: (60000, 28, 28, 1)\n"
          ],
          "name": "stdout"
        }
      ]
    },
    {
      "cell_type": "code",
      "metadata": {
        "id": "aSoH5Bbv0ha-",
        "colab_type": "code",
        "colab": {
          "base_uri": "https://localhost:8080/",
          "height": 35
        },
        "outputId": "393d0b8a-0c86-4331-a958-076ea9a52db1"
      },
      "source": [
        "#one hot encoding of labels\n",
        "from keras.utils import np_utils\n",
        "y_train=np_utils.to_categorical(y_train,10)\n",
        "y_test=np_utils.to_categorical(y_test,10)\n",
        "\n",
        "print(y_train[0]) # output [0. 0. 0. 0. 0. 1. 0. 0. 0. 0.] which means label is 5"
      ],
      "execution_count": 4,
      "outputs": [
        {
          "output_type": "stream",
          "text": [
            "[0. 0. 0. 0. 0. 1. 0. 0. 0. 0.]\n"
          ],
          "name": "stdout"
        }
      ]
    },
    {
      "cell_type": "code",
      "metadata": {
        "id": "7arODF0T1LKd",
        "colab_type": "code",
        "colab": {
          "base_uri": "https://localhost:8080/",
          "height": 458
        },
        "outputId": "54f179c3-c821-459a-ed60-0de2668f983d"
      },
      "source": [
        "# defining the cnn model\n",
        "from keras.models import Sequential\n",
        "from keras.layers.convolutional import Conv2D, MaxPooling2D\n",
        "from keras.layers import Dense, Flatten, Dropout\n",
        "from keras.optimizers import Adam\n",
        "\n",
        "model=Sequential()\n",
        "\n",
        "# first layer\n",
        "model.add(Conv2D(32, kernel_size=(3, 3), input_shape=(x_train.shape[1:]), activation='relu'))\n",
        "model.add(MaxPooling2D(pool_size=(2,2)))\n",
        "\n",
        "# second layer\n",
        "model.add(Conv2D(64, kernel_size=(3,3), activation='relu'))\n",
        "model.add(MaxPooling2D(pool_size=(2,2)))\n",
        "model.add(Dropout(0.2))\n",
        "\n",
        "# flattening followed by dense layer and final output layer\n",
        "model.add(Flatten())\n",
        "model.add(Dense(128, activation='relu'))\n",
        "model.add(Dense(10,activation='softmax'))\n",
        "\n",
        "model.summary()\n"
      ],
      "execution_count": 8,
      "outputs": [
        {
          "output_type": "stream",
          "text": [
            "Model: \"sequential_2\"\n",
            "_________________________________________________________________\n",
            "Layer (type)                 Output Shape              Param #   \n",
            "=================================================================\n",
            "conv2d_4 (Conv2D)            (None, 26, 26, 32)        320       \n",
            "_________________________________________________________________\n",
            "max_pooling2d_4 (MaxPooling2 (None, 13, 13, 32)        0         \n",
            "_________________________________________________________________\n",
            "conv2d_5 (Conv2D)            (None, 11, 11, 64)        18496     \n",
            "_________________________________________________________________\n",
            "max_pooling2d_5 (MaxPooling2 (None, 5, 5, 64)          0         \n",
            "_________________________________________________________________\n",
            "dropout_1 (Dropout)          (None, 5, 5, 64)          0         \n",
            "_________________________________________________________________\n",
            "flatten_1 (Flatten)          (None, 1600)              0         \n",
            "_________________________________________________________________\n",
            "dense_2 (Dense)              (None, 128)               204928    \n",
            "_________________________________________________________________\n",
            "dense_3 (Dense)              (None, 10)                1290      \n",
            "=================================================================\n",
            "Total params: 225,034\n",
            "Trainable params: 225,034\n",
            "Non-trainable params: 0\n",
            "_________________________________________________________________\n"
          ],
          "name": "stdout"
        }
      ]
    },
    {
      "cell_type": "code",
      "metadata": {
        "id": "uExcLzxO1vkV",
        "colab_type": "code",
        "colab": {
          "base_uri": "https://localhost:8080/",
          "height": 384
        },
        "outputId": "88ab9ca9-226d-4465-95df-df2d5a10d2fd"
      },
      "source": [
        "from keras.optimizers import Adam\n",
        "from keras.utils import np_utils\n",
        "from keras.callbacks import ModelCheckpoint\n",
        "from keras.callbacks import TensorBoard\n",
        "\n",
        "weights_path = \"modelmnist.h5\"\n",
        "model.compile(loss='categorical_crossentropy',  optimizer=Adam(), metrics=['accuracy'])\n",
        "model_checkpoint = ModelCheckpoint(weights_path, monitor='val_loss', save_best_only=True)\n",
        "history = model.fit(x_train, y_train, epochs=10, callbacks=[model_checkpoint],validation_data=(x_test, y_test), batch_size=32)"
      ],
      "execution_count": 9,
      "outputs": [
        {
          "output_type": "stream",
          "text": [
            "Epoch 1/10\n",
            "1875/1875 [==============================] - 53s 28ms/step - loss: 0.7285 - accuracy: 0.7533 - val_loss: 0.2696 - val_accuracy: 0.9290\n",
            "Epoch 2/10\n",
            "1875/1875 [==============================] - 53s 28ms/step - loss: 0.2247 - accuracy: 0.9315 - val_loss: 0.1558 - val_accuracy: 0.9598\n",
            "Epoch 3/10\n",
            "1875/1875 [==============================] - 53s 28ms/step - loss: 0.1480 - accuracy: 0.9549 - val_loss: 0.1301 - val_accuracy: 0.9596\n",
            "Epoch 4/10\n",
            "1875/1875 [==============================] - 53s 28ms/step - loss: 0.1138 - accuracy: 0.9652 - val_loss: 0.0981 - val_accuracy: 0.9756\n",
            "Epoch 5/10\n",
            "1875/1875 [==============================] - 53s 28ms/step - loss: 0.0950 - accuracy: 0.9700 - val_loss: 0.0842 - val_accuracy: 0.9773\n",
            "Epoch 6/10\n",
            "1875/1875 [==============================] - 54s 29ms/step - loss: 0.0848 - accuracy: 0.9733 - val_loss: 0.0734 - val_accuracy: 0.9801\n",
            "Epoch 7/10\n",
            "1875/1875 [==============================] - 54s 29ms/step - loss: 0.0737 - accuracy: 0.9772 - val_loss: 0.0696 - val_accuracy: 0.9791\n",
            "Epoch 8/10\n",
            "1875/1875 [==============================] - 54s 29ms/step - loss: 0.0675 - accuracy: 0.9791 - val_loss: 0.0678 - val_accuracy: 0.9798\n",
            "Epoch 9/10\n",
            "1875/1875 [==============================] - 54s 29ms/step - loss: 0.0613 - accuracy: 0.9811 - val_loss: 0.0567 - val_accuracy: 0.9837\n",
            "Epoch 10/10\n",
            "1875/1875 [==============================] - 55s 29ms/step - loss: 0.0550 - accuracy: 0.9829 - val_loss: 0.0536 - val_accuracy: 0.9838\n"
          ],
          "name": "stdout"
        }
      ]
    },
    {
      "cell_type": "code",
      "metadata": {
        "id": "4HJZbi9u2Ile",
        "colab_type": "code",
        "colab": {
          "base_uri": "https://localhost:8080/",
          "height": 591
        },
        "outputId": "1c0eea50-3668-4836-810e-2986464d0c8f"
      },
      "source": [
        "print(history.history.keys())\n",
        "#  Ploting the accuracy graph\n",
        "plt.plot(history.history['accuracy'])\n",
        "plt.plot(history.history['val_accuracy'])\n",
        "plt.title('model accuracy')\n",
        "plt.ylabel('accuracy')\n",
        "plt.xlabel('epoch')\n",
        "plt.show()\n",
        "# Ploting the loss graph\n",
        "plt.plot(history.history['loss'])\n",
        "plt.plot(history.history['val_loss'])\n",
        "plt.title('model loss')\n",
        "plt.ylabel('loss')\n",
        "plt.xlabel('epoch')\n",
        "plt.show()"
      ],
      "execution_count": 11,
      "outputs": [
        {
          "output_type": "stream",
          "text": [
            "dict_keys(['loss', 'accuracy', 'val_loss', 'val_accuracy'])\n"
          ],
          "name": "stdout"
        },
        {
          "output_type": "display_data",
          "data": {
            "image/png": "[encoded data removed]",
            "text/plain": [
              "<Figure size 432x288 with 1 Axes>"
            ]
          },
          "metadata": {
            "tags": [],
            "needs_background": "light"
          }
        },
        {
          "output_type": "display_data",
          "data": {
            "image/png": "[encoded data removed]",
            "text/plain": [
              "<Figure size 432x288 with 1 Axes>"
            ]
          },
          "metadata": {
            "tags": [],
            "needs_background": "light"
          }
        }
      ]
    },
    {
      "cell_type": "code",
      "metadata": {
        "id": "SArE7Tfg4bHr",
        "colab_type": "code",
        "colab": {
          "base_uri": "https://localhost:8080/",
          "height": 237
        },
        "outputId": "f4dc63a5-e4a0-44be-d4ad-8d201f074412"
      },
      "source": [
        "# evaluate the model on test data\n",
        "score = model.evaluate(x_test, y_test, verbose = 0) \n",
        "print('Test loss:', score[0]) \n",
        "print('Test accuracy:', score[1])\n",
        "\n",
        "# predicting on the test data\n",
        "y_pred=model.predict(x_test)\n",
        "\n",
        "# ploting confusion matrix\n",
        "from sklearn.metrics import confusion_matrix\n",
        "import numpy as np\n",
        "y_true_cls = np.argmax(y_test, axis=1)\n",
        "y_pred_cls = np.argmax(y_pred, axis=1)\n",
        "cm = confusion_matrix(y_true_cls, y_pred_cls)\n",
        "print(cm)\n"
      ],
      "execution_count": 15,
      "outputs": [
        {
          "output_type": "stream",
          "text": [
            "Test loss: 0.05360203981399536\n",
            "Test accuracy: 0.9837999939918518\n",
            "[[ 967    0    0    0    0    1    7    2    3    0]\n",
            " [   0 1131    0    0    0    0    1    1    1    1]\n",
            " [   2    2 1013    3    1    0    2    7    1    1]\n",
            " [   0    1    2  990    0    5    0    7    4    1]\n",
            " [   3    0    1    0  949    0    9    0    0   20]\n",
            " [   2    1    0    5    0  879    3    1    1    0]\n",
            " [   1    2    0    0    1    4  950    0    0    0]\n",
            " [   1    4    4    1    0    0    0 1002    1   15]\n",
            " [   0    0    1    2    0    2    0    2  963    4]\n",
            " [   2    2    1    1    4    2    0    3    0  994]]\n"
          ],
          "name": "stdout"
        }
      ]
    },
    {
      "cell_type": "code",
      "metadata": {
        "id": "CFvALm2Q3I0l",
        "colab_type": "code",
        "colab": {
          "base_uri": "https://localhost:8080/",
          "height": 262
        },
        "outputId": "61cd2bad-72d7-4ae1-c988-53ebdcb5c12c"
      },
      "source": [
        "import numpy as np\n",
        "\n",
        "prediction=model.predict(x_test[0:9])\n",
        "y_true_cls = np.argmax(y_test[0:9], axis=1)\n",
        "y_pred_cls = np.argmax(prediction, axis=1)\n",
        "\n",
        "img_size=28\n",
        "img_shape = (img_size, img_size)\n",
        "def plot_images(images, cls_true, cls_pred=None):\n",
        "    assert len(images) == len(cls_true) == 9\n",
        "    \n",
        "    \n",
        "    fig, axes = plt.subplots(3, 3)\n",
        "    fig.subplots_adjust(hspace=0.3, wspace=0.3)\n",
        "\n",
        "    for i, ax in enumerate(axes.flat):\n",
        "        \n",
        "        ax.imshow(images[i].reshape(img_shape), cmap='binary')\n",
        "\n",
        "        \n",
        "        if cls_pred is None:\n",
        "            xlabel = \"True: {0}\".format(cls_true[i])\n",
        "        else:\n",
        "            xlabel = \"True: {0}, Pred: {1}\".format(cls_true[i], cls_pred[i])\n",
        "\n",
        "        \n",
        "        ax.set_xlabel(xlabel)\n",
        "        \n",
        "       \n",
        "        ax.set_xticks([])\n",
        "        ax.set_yticks([])\n",
        "    \n",
        "    \n",
        "    plt.show()\n",
        "\n",
        "plot_images(x_test[0:9],y_true_cls[0:9],y_pred_cls[0:9])"
      ],
      "execution_count": 16,
      "outputs": [
        {
          "output_type": "display_data",
          "data": {
            "image/png": "[encoded data removed]",
            "text/plain": [
              "<Figure size 432x288 with 9 Axes>"
            ]
          },
          "metadata": {
            "tags": []
          }
        }
      ]
    }
  ]
}